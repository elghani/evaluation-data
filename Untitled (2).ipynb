{
 "cells": [
  {
   "cell_type": "code",
   "execution_count": 3,
   "metadata": {},
   "outputs": [
    {
     "ename": "IndentationError",
     "evalue": "expected an indented block (<ipython-input-3-fe23d686f927>, line 3)",
     "output_type": "error",
     "traceback": [
      "\u001b[1;36m  File \u001b[1;32m\"<ipython-input-3-fe23d686f927>\"\u001b[1;36m, line \u001b[1;32m3\u001b[0m\n\u001b[1;33m    return n*(n+1)/2\u001b[0m\n\u001b[1;37m         ^\u001b[0m\n\u001b[1;31mIndentationError\u001b[0m\u001b[1;31m:\u001b[0m expected an indented block\n"
     ]
    }
   ],
   "source": [
    "#ex 4\n",
    "def somme_entiers(n):\n",
    "return n*(n+1)/2\n"
   ]
  },
  {
   "cell_type": "code",
   "execution_count": 4,
   "metadata": {},
   "outputs": [
    {
     "ename": "IndentationError",
     "evalue": "expected an indented block (<ipython-input-4-fe23d686f927>, line 3)",
     "output_type": "error",
     "traceback": [
      "\u001b[1;36m  File \u001b[1;32m\"<ipython-input-4-fe23d686f927>\"\u001b[1;36m, line \u001b[1;32m3\u001b[0m\n\u001b[1;33m    return n*(n+1)/2\u001b[0m\n\u001b[1;37m         ^\u001b[0m\n\u001b[1;31mIndentationError\u001b[0m\u001b[1;31m:\u001b[0m expected an indented block\n"
     ]
    }
   ],
   "source": [
    "#ex 4\n",
    "def somme_entiers(n):\n",
    "return n*(n+1)/2"
   ]
  },
  {
   "cell_type": "code",
   "execution_count": 6,
   "metadata": {},
   "outputs": [],
   "source": [
    "# ex 9 \n",
    "def multiply(m1, m2):\n",
    "  m = []\n",
    "  if len(m1[0]) != len(m2):\n",
    "    print \"erreur\"\n",
    "    return False\n",
    "  for i in range(len(m1)):\n",
    "    ligne = []\n",
    "    for j in range(len(m2[0])):\n",
    "      element = 0\n",
    "      for k in range(len(m1[0])):\n",
    "        element = element + m1[i][k] * m2[k][j]\n",
    "      ligne.append(element)\n",
    "    m.append(ligne)\n",
    "  return m"
   ]
  },
  {
   "cell_type": "code",
   "execution_count": 8,
   "metadata": {},
   "outputs": [
    {
     "name": "stdout",
     "output_type": "stream",
     "text": [
      "4\n"
     ]
    }
   ],
   "source": [
    ">>> def carre(x):\n",
    "...     return x**2\n",
    "...\n",
    ">>> print(carre(2))\n"
   ]
  },
  {
   "cell_type": "code",
   "execution_count": 11,
   "metadata": {},
   "outputs": [
    {
     "name": "stdout",
     "output_type": "stream",
     "text": [
      "4\n"
     ]
    },
    {
     "data": {
      "text/plain": [
       "4"
      ]
     },
     "execution_count": 11,
     "metadata": {},
     "output_type": "execute_result"
    }
   ],
   "source": [
    "#ex7 \n",
    ">>> def carre(x):\n",
    "...     return x**2\n",
    "...\n",
    ">>> print(carre(2))\n",
    "4"
   ]
  },
  {
   "cell_type": "code",
   "execution_count": 15,
   "metadata": {},
   "outputs": [
    {
     "name": "stdout",
     "output_type": "stream",
     "text": [
      "entrer un nombre4\n"
     ]
    },
    {
     "ename": "SyntaxError",
     "evalue": "'return' outside function (<ipython-input-15-fa4b8f0dae6f>, line 3)",
     "output_type": "error",
     "traceback": [
      "\u001b[1;36m  File \u001b[1;32m\"<ipython-input-15-fa4b8f0dae6f>\"\u001b[1;36m, line \u001b[1;32m3\u001b[0m\n\u001b[1;33m    return a*a\u001b[0m\n\u001b[1;31mSyntaxError\u001b[0m\u001b[1;31m:\u001b[0m 'return' outside function\n"
     ]
    }
   ],
   "source": [
    "# ex 1\n",
    "a = input('entrer un nombre')\n",
    "return a*a"
   ]
  },
  {
   "cell_type": "code",
   "execution_count": 16,
   "metadata": {},
   "outputs": [
    {
     "ename": "SyntaxError",
     "evalue": "invalid syntax (<ipython-input-16-494e4553051c>, line 10)",
     "output_type": "error",
     "traceback": [
      "\u001b[1;36m  File \u001b[1;32m\"<ipython-input-16-494e4553051c>\"\u001b[1;36m, line \u001b[1;32m10\u001b[0m\n\u001b[1;33m    if (m > 0 && n > 0) or (m < 0 and n < 0)\u001b[0m\n\u001b[1;37m               ^\u001b[0m\n\u001b[1;31mSyntaxError\u001b[0m\u001b[1;31m:\u001b[0m invalid syntax\n"
     ]
    }
   ],
   "source": [
    "#Problème 2 : Produit\n",
    "#Ecrire une fonction en python qui prend deux nombres et informe en suite si leur produit est\n",
    "#négatif ou positif ou nul. Attention : il n'est pas nécessaire de renvoyer le produit des deux\n",
    "#nombres.\n",
    "m = 0 \n",
    "n = 0\n",
    "print (\"Entrez deux nombres : \")\n",
    "m = input('entrer le premier nombre')\n",
    "n = input('entrer le deuxieme nombre')\n",
    "if (m > 0 && n > 0) or (m < 0 and n < 0) \n",
    "  print (\"Leur produit est positif\")\n",
    "else\n",
    "  print (\"Leur produit est négatif\")\n",
    "end if"
   ]
  },
  {
   "cell_type": "code",
   "execution_count": 17,
   "metadata": {},
   "outputs": [],
   "source": [
    "# ex 5\n",
    "def minimum(liste):\n",
    "    min = liste[0]\n",
    "    for i in liste:\n",
    "        if i <= min:\n",
    "            min = i\n",
    "    return min"
   ]
  },
  {
   "cell_type": "code",
   "execution_count": 19,
   "metadata": {},
   "outputs": [
    {
     "ename": "SyntaxError",
     "evalue": "invalid syntax (<ipython-input-19-0ffd7802e7f3>, line 3)",
     "output_type": "error",
     "traceback": [
      "\u001b[1;36m  File \u001b[1;32m\"<ipython-input-19-0ffd7802e7f3>\"\u001b[1;36m, line \u001b[1;32m3\u001b[0m\n\u001b[1;33m    La programmation impérative classique sépare données et traitements sur ces données. Etant donné un type de donnée,\u001b[0m\n\u001b[1;37m                   ^\u001b[0m\n\u001b[1;31mSyntaxError\u001b[0m\u001b[1;31m:\u001b[0m invalid syntax\n"
     ]
    }
   ],
   "source": [
    "\n",
    "# ex10\n",
    "La programmation impérative classique sépare données et traitements sur ces données. Etant donné un type de donnée,\n",
    "on dénit seulement quelles vont être les valeurs associées.\n",
    "Les différentes opérations que l'on pourra réaliser avec ce type seront définies séparément, sous forme de fonctions.\n",
    "Plusieurs problèmes apparaissent, entre autres : \n",
    "-les valeurs ne sont pas encapsulées, c'est-à-dire que l'on peut partout lire ou modifier ces valeurs. \n",
    "-les valeurs peuvent ne pas être correctement initialisées. La variable risque d'avoir des valeurs inconsistantes.  \n",
    "-les traitements étant séparés, il est difficile de connaître exactement quelles sont toutes les opérations possibles sur \n",
    "ce type. \n",
    "Il y a donc risque de ré-écriture de fonctions existantes ou de dénition de traitements qui ne correspondent pas à au \n",
    "champ sémantique du type.\n",
    "\n",
    "La programmation orientée objet est un modèle de langage de programmation qui s'articule autour d'objets et de données,\n",
    "plutôt que d'actions et de logique. Par le passé, un programme était une procédure logique qui récupérait des données en entrée,\n",
    "les traitait puis produisait des données en sortie.\n",
    "\n",
    "l'héritage est de pouvoir définir de nouveaux attributs et de nouvelles méthodes pour la classe dérivée,\n",
    "qui viennent s'ajouter à ceux et celles héritées. Par ce moyen on crée une hiérarchie de classes de plus en plus spécialisées.\n",
    "\n",
    "Le polymorphisme veut simplement dire qu'une classe peut prendre plusieurs formes \n",
    "et c'est d'autant plus vrai avec les classes qui héritent d'une classe supérieure.\n",
    "\n",
    "\n"
   ]
  },
  {
   "cell_type": "code",
   "execution_count": null,
   "metadata": {},
   "outputs": [],
   "source": []
  }
 ],
 "metadata": {
  "kernelspec": {
   "display_name": "Python 2",
   "language": "python",
   "name": "python2"
  },
  "language_info": {
   "codemirror_mode": {
    "name": "ipython",
    "version": 2
   },
   "file_extension": ".py",
   "mimetype": "text/x-python",
   "name": "python",
   "nbconvert_exporter": "python",
   "pygments_lexer": "ipython2",
   "version": "2.7.16"
  }
 },
 "nbformat": 4,
 "nbformat_minor": 2
}
